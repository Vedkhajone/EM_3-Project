{
 "cells": [
  {
   "cell_type": "markdown",
   "id": "635341ab",
   "metadata": {},
   "source": [
    "\n",
    "# Regression line"
   ]
  },
  {
   "cell_type": "code",
   "execution_count": 6,
   "id": "cac4ec29",
   "metadata": {},
   "outputs": [],
   "source": [
    "#input Data\n",
    "x = [4, 2, 3, 4, 2]\n",
    "y = [2, 3, 2, 4, 4]"
   ]
  },
  {
   "cell_type": "code",
   "execution_count": 7,
   "id": "1f45c386",
   "metadata": {},
   "outputs": [
    {
     "name": "stdout",
     "output_type": "stream",
     "text": [
      "Mean of x: 3.0\n",
      "Mean of y: 3.0\n"
     ]
    }
   ],
   "source": [
    "# Step 1: Calculate Mean\n",
    "mean_x = sum(x) / len(x)\n",
    "mean_y = sum(y) / len(y)\n",
    "\n",
    "print(\"Mean of x:\", mean_x)\n",
    "print(\"Mean of y:\", mean_y)"
   ]
  },
  {
   "cell_type": "code",
   "execution_count": 8,
   "id": "c3960d3c",
   "metadata": {},
   "outputs": [
    {
     "name": "stdout",
     "output_type": "stream",
     "text": [
      "Standard deviation of x: 0.8944271909999159\n",
      "Standard deviation of y: 0.8944271909999159\n"
     ]
    }
   ],
   "source": [
    "# Step 2: Standard deviations\n",
    "std_x = (sum((xi - mean_x) ** 2 for xi in x) / len(x)) ** 0.5\n",
    "std_y = (sum((yi - mean_y) ** 2 for yi in y) / len(y)) ** 0.5\n",
    "\n",
    "print(\"Standard deviation of x:\", std_x)\n",
    "print(\"Standard deviation of y:\", std_y)"
   ]
  },
  {
   "cell_type": "code",
   "execution_count": 10,
   "id": "5244cce8",
   "metadata": {},
   "outputs": [
    {
     "name": "stdout",
     "output_type": "stream",
     "text": [
      "Covariance of x and y: -0.2\n"
     ]
    }
   ],
   "source": [
    "# Step 3: Covariance\n",
    "cov_xy = sum((x[i] - mean_x) * (y[i] - mean_y) for i in range(len(x))) / len(x)\n",
    "print(\"Covariance of x and y:\", cov_xy)"
   ]
  },
  {
   "cell_type": "code",
   "execution_count": 12,
   "id": "e8be75ff",
   "metadata": {},
   "outputs": [
    {
     "name": "stdout",
     "output_type": "stream",
     "text": [
      "Correlation coefficient (r): -0.25000000000000006\n"
     ]
    }
   ],
   "source": [
    "# Step 4: Correlation coefficient (r)\n",
    "r = cov_xy / (std_x * std_y)\n",
    "print(\"Correlation coefficient (r):\", r)"
   ]
  },
  {
   "cell_type": "code",
   "execution_count": 13,
   "id": "fbd14248",
   "metadata": {},
   "outputs": [
    {
     "name": "stdout",
     "output_type": "stream",
     "text": [
      "Regression coefficient (y on x): -0.25000000000000006\n",
      "Regression coefficient (x on y): -0.25000000000000006\n"
     ]
    }
   ],
   "source": [
    "# Step 5: Regression coefficients\n",
    "b_yx = r * (std_y / std_x)  # y on x\n",
    "b_xy = r * (std_x / std_y)  # x on y\n",
    "print(\"Regression coefficient (y on x):\", b_yx)\n",
    "print(\"Regression coefficient (x on y):\", b_xy)"
   ]
  },
  {
   "cell_type": "code",
   "execution_count": 15,
   "id": "bd0cb920",
   "metadata": {},
   "outputs": [
    {
     "name": "stdout",
     "output_type": "stream",
     "text": [
      "Regression line (y on x): y = -0.25x + 3.75\n",
      "Regression line (x on y): x = -0.25y + 3.75\n"
     ]
    }
   ],
   "source": [
    "regression_y_on_x = f\"y = {b_yx:.2f}x + {(mean_y - b_yx * mean_x):.2f}\"\n",
    "regression_x_on_y = f\"x = {b_xy:.2f}y + {(mean_x - b_xy * mean_y):.2f}\"\n",
    "print(\"Regression line (y on x):\", regression_y_on_x)\n",
    "print(\"Regression line (x on y):\", regression_x_on_y)"
   ]
  },
  {
   "cell_type": "code",
   "execution_count": 16,
   "id": "07e1e275",
   "metadata": {},
   "outputs": [
    {
     "data": {
      "image/png": "[encoded data removed]",
      "text/plain": [
       "<Figure size 640x480 with 1 Axes>"
      ]
     },
     "metadata": {},
     "output_type": "display_data"
    }
   ],
   "source": [
    "import matplotlib.pyplot as plt\n",
    "\n",
    "# Generate predicted y values using the regression line (y on x)\n",
    "predicted_y = [b_yx * xi + (mean_y - b_yx * mean_x) for xi in x]\n",
    "\n",
    "# Plot original data points\n",
    "plt.scatter(x, y, color='blue', label='Data Points')\n",
    "\n",
    "# Plot regression line\n",
    "plt.plot(x, predicted_y, color='red', label='Regression Line (y on x)')\n",
    "\n",
    "# Labels and legend\n",
    "plt.xlabel('x')\n",
    "plt.ylabel('y')\n",
    "plt.title('Linear Regression Line (y on x)')\n",
    "plt.legend()\n",
    "plt.grid(True)\n",
    "plt.show()\n"
   ]
  },
  {
   "cell_type": "code",
   "execution_count": null,
   "id": "458734c2",
   "metadata": {},
   "outputs": [],
   "source": []
  }
 ],
 "metadata": {
  "kernelspec": {
   "display_name": "Python 3",
   "language": "python",
   "name": "python3"
  },
  "language_info": {
   "codemirror_mode": {
    "name": "ipython",
    "version": 3
   },
   "file_extension": ".py",
   "mimetype": "text/x-python",
   "name": "python",
   "nbconvert_exporter": "python",
   "pygments_lexer": "ipython3",
   "version": "3.12.10"
  }
 },
 "nbformat": 4,
 "nbformat_minor": 5
}
